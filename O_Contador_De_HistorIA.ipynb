{
  "nbformat": 4,
  "nbformat_minor": 0,
  "metadata": {
    "colab": {
      "provenance": [],
      "authorship_tag": "ABX9TyOYfLoffGF2vhScC/SEhAA6",
      "include_colab_link": true
    },
    "kernelspec": {
      "name": "python3",
      "display_name": "Python 3"
    },
    "language_info": {
      "name": "python"
    }
  },
  "cells": [
    {
      "cell_type": "markdown",
      "metadata": {
        "id": "view-in-github",
        "colab_type": "text"
      },
      "source": [
        "<a href=\"https://colab.research.google.com/github/johnlordviking/DesafioImersaoAlura/blob/main/O_Contador_De_HistorIA.ipynb\" target=\"_parent\"><img src=\"https://colab.research.google.com/assets/colab-badge.svg\" alt=\"Open In Colab\"/></a>"
      ]
    },
    {
      "cell_type": "markdown",
      "source": [
        "**Projeto:** O Contador de HistórIA\n",
        "\n",
        "**Descrição:** Uma aplicação inovadora que utiliza inteligência artificial para gerar fábulas a partir de desenhos infantis. Através de técnicas de processamento de imagens e aprendizado de máquina, o sistema analisa o desenho, reconhece elementos importantes e cria uma narrativa original e envolvente. A aplicação promove o desenvolvimento da criatividade, alfabetização e letramento, além de transmitir valores importantes para as crianças.\n",
        "\n",
        "**Autor:** João Pedro Rodrigues\n",
        "\n",
        "**Modelo:** gemini-pro-vision"
      ],
      "metadata": {
        "id": "8raL2b3_dGpl"
      }
    },
    {
      "cell_type": "code",
      "source": [
        "#Instalação do Google Generative AI\n",
        "!pip install -q -U google-generativeai"
      ],
      "metadata": {
        "id": "VwCyNTMfJGpv"
      },
      "execution_count": 48,
      "outputs": []
    },
    {
      "cell_type": "code",
      "source": [
        "#Importação das bibliotecas utilizadas\n",
        "import google.generativeai as genai\n",
        "import PIL.Image\n",
        "from google.colab import files\n",
        "from google.colab import userdata"
      ],
      "metadata": {
        "id": "hlorUTKPKif_"
      },
      "execution_count": 49,
      "outputs": []
    },
    {
      "cell_type": "code",
      "execution_count": 50,
      "metadata": {
        "id": "rU-9KwG-yCGj"
      },
      "outputs": [],
      "source": [
        "#Configuração para uso da API KEY\n",
        "API_KEY = userdata.get(\"SECRET_KEY\")\n",
        "genai.configure(api_key=API_KEY)"
      ]
    },
    {
      "cell_type": "code",
      "source": [
        "#Configuração do modelo\n",
        "config_generation = {\n",
        "    \"candidate_count\": 1,\n",
        "    \"temperature\": 0.9\n",
        "}"
      ],
      "metadata": {
        "id": "HzH4dR6dJSVs"
      },
      "execution_count": 51,
      "outputs": []
    },
    {
      "cell_type": "code",
      "source": [
        "#Configuração dos filtro. Por ser tratar de um conteudo infantil, coloquei o máximo de bloqueio\n",
        "config_safety = {\n",
        "    \"HARASSMENT\": \"BLOCK_MOST\",\n",
        "    \"HATE\": \"BLOCK_MOST\",\n",
        "    \"SEXUAL\": \"BLOCK_MOST\",\n",
        "    \"DANGEROUS\": \"BLOCK_MOST\"\n",
        "}"
      ],
      "metadata": {
        "id": "5Kocv8VQJgWJ"
      },
      "execution_count": 52,
      "outputs": []
    },
    {
      "cell_type": "code",
      "source": [
        "#Definindo modelo que será utilizado\n",
        "define_model = genai.GenerativeModel(model_name=\"gemini-pro-vision\")"
      ],
      "metadata": {
        "id": "y6yu9bcvJwIH"
      },
      "execution_count": 53,
      "outputs": []
    },
    {
      "cell_type": "code",
      "source": [
        "#Upload da imagem escolhida\n",
        "uploaded = files.upload()\n",
        "\n",
        "if uploaded:\n",
        "  uploaded_image_name = next(iter(uploaded.keys()))\n",
        "  img = PIL.Image.open(uploaded_image_name)\n",
        "else:\n",
        "  print(\"Nenhuma imagem selecionada!\")"
      ],
      "metadata": {
        "colab": {
          "base_uri": "https://localhost:8080/",
          "height": 73
        },
        "id": "XwhwYJA9MIFt",
        "outputId": "5cf082cc-f6f7-4ae8-af58-d73c696e800a"
      },
      "execution_count": 54,
      "outputs": [
        {
          "output_type": "display_data",
          "data": {
            "text/plain": [
              "<IPython.core.display.HTML object>"
            ],
            "text/html": [
              "\n",
              "     <input type=\"file\" id=\"files-0b6962d1-32eb-4afc-bd18-8f0495b2365e\" name=\"files[]\" multiple disabled\n",
              "        style=\"border:none\" />\n",
              "     <output id=\"result-0b6962d1-32eb-4afc-bd18-8f0495b2365e\">\n",
              "      Upload widget is only available when the cell has been executed in the\n",
              "      current browser session. Please rerun this cell to enable.\n",
              "      </output>\n",
              "      <script>// Copyright 2017 Google LLC\n",
              "//\n",
              "// Licensed under the Apache License, Version 2.0 (the \"License\");\n",
              "// you may not use this file except in compliance with the License.\n",
              "// You may obtain a copy of the License at\n",
              "//\n",
              "//      http://www.apache.org/licenses/LICENSE-2.0\n",
              "//\n",
              "// Unless required by applicable law or agreed to in writing, software\n",
              "// distributed under the License is distributed on an \"AS IS\" BASIS,\n",
              "// WITHOUT WARRANTIES OR CONDITIONS OF ANY KIND, either express or implied.\n",
              "// See the License for the specific language governing permissions and\n",
              "// limitations under the License.\n",
              "\n",
              "/**\n",
              " * @fileoverview Helpers for google.colab Python module.\n",
              " */\n",
              "(function(scope) {\n",
              "function span(text, styleAttributes = {}) {\n",
              "  const element = document.createElement('span');\n",
              "  element.textContent = text;\n",
              "  for (const key of Object.keys(styleAttributes)) {\n",
              "    element.style[key] = styleAttributes[key];\n",
              "  }\n",
              "  return element;\n",
              "}\n",
              "\n",
              "// Max number of bytes which will be uploaded at a time.\n",
              "const MAX_PAYLOAD_SIZE = 100 * 1024;\n",
              "\n",
              "function _uploadFiles(inputId, outputId) {\n",
              "  const steps = uploadFilesStep(inputId, outputId);\n",
              "  const outputElement = document.getElementById(outputId);\n",
              "  // Cache steps on the outputElement to make it available for the next call\n",
              "  // to uploadFilesContinue from Python.\n",
              "  outputElement.steps = steps;\n",
              "\n",
              "  return _uploadFilesContinue(outputId);\n",
              "}\n",
              "\n",
              "// This is roughly an async generator (not supported in the browser yet),\n",
              "// where there are multiple asynchronous steps and the Python side is going\n",
              "// to poll for completion of each step.\n",
              "// This uses a Promise to block the python side on completion of each step,\n",
              "// then passes the result of the previous step as the input to the next step.\n",
              "function _uploadFilesContinue(outputId) {\n",
              "  const outputElement = document.getElementById(outputId);\n",
              "  const steps = outputElement.steps;\n",
              "\n",
              "  const next = steps.next(outputElement.lastPromiseValue);\n",
              "  return Promise.resolve(next.value.promise).then((value) => {\n",
              "    // Cache the last promise value to make it available to the next\n",
              "    // step of the generator.\n",
              "    outputElement.lastPromiseValue = value;\n",
              "    return next.value.response;\n",
              "  });\n",
              "}\n",
              "\n",
              "/**\n",
              " * Generator function which is called between each async step of the upload\n",
              " * process.\n",
              " * @param {string} inputId Element ID of the input file picker element.\n",
              " * @param {string} outputId Element ID of the output display.\n",
              " * @return {!Iterable<!Object>} Iterable of next steps.\n",
              " */\n",
              "function* uploadFilesStep(inputId, outputId) {\n",
              "  const inputElement = document.getElementById(inputId);\n",
              "  inputElement.disabled = false;\n",
              "\n",
              "  const outputElement = document.getElementById(outputId);\n",
              "  outputElement.innerHTML = '';\n",
              "\n",
              "  const pickedPromise = new Promise((resolve) => {\n",
              "    inputElement.addEventListener('change', (e) => {\n",
              "      resolve(e.target.files);\n",
              "    });\n",
              "  });\n",
              "\n",
              "  const cancel = document.createElement('button');\n",
              "  inputElement.parentElement.appendChild(cancel);\n",
              "  cancel.textContent = 'Cancel upload';\n",
              "  const cancelPromise = new Promise((resolve) => {\n",
              "    cancel.onclick = () => {\n",
              "      resolve(null);\n",
              "    };\n",
              "  });\n",
              "\n",
              "  // Wait for the user to pick the files.\n",
              "  const files = yield {\n",
              "    promise: Promise.race([pickedPromise, cancelPromise]),\n",
              "    response: {\n",
              "      action: 'starting',\n",
              "    }\n",
              "  };\n",
              "\n",
              "  cancel.remove();\n",
              "\n",
              "  // Disable the input element since further picks are not allowed.\n",
              "  inputElement.disabled = true;\n",
              "\n",
              "  if (!files) {\n",
              "    return {\n",
              "      response: {\n",
              "        action: 'complete',\n",
              "      }\n",
              "    };\n",
              "  }\n",
              "\n",
              "  for (const file of files) {\n",
              "    const li = document.createElement('li');\n",
              "    li.append(span(file.name, {fontWeight: 'bold'}));\n",
              "    li.append(span(\n",
              "        `(${file.type || 'n/a'}) - ${file.size} bytes, ` +\n",
              "        `last modified: ${\n",
              "            file.lastModifiedDate ? file.lastModifiedDate.toLocaleDateString() :\n",
              "                                    'n/a'} - `));\n",
              "    const percent = span('0% done');\n",
              "    li.appendChild(percent);\n",
              "\n",
              "    outputElement.appendChild(li);\n",
              "\n",
              "    const fileDataPromise = new Promise((resolve) => {\n",
              "      const reader = new FileReader();\n",
              "      reader.onload = (e) => {\n",
              "        resolve(e.target.result);\n",
              "      };\n",
              "      reader.readAsArrayBuffer(file);\n",
              "    });\n",
              "    // Wait for the data to be ready.\n",
              "    let fileData = yield {\n",
              "      promise: fileDataPromise,\n",
              "      response: {\n",
              "        action: 'continue',\n",
              "      }\n",
              "    };\n",
              "\n",
              "    // Use a chunked sending to avoid message size limits. See b/62115660.\n",
              "    let position = 0;\n",
              "    do {\n",
              "      const length = Math.min(fileData.byteLength - position, MAX_PAYLOAD_SIZE);\n",
              "      const chunk = new Uint8Array(fileData, position, length);\n",
              "      position += length;\n",
              "\n",
              "      const base64 = btoa(String.fromCharCode.apply(null, chunk));\n",
              "      yield {\n",
              "        response: {\n",
              "          action: 'append',\n",
              "          file: file.name,\n",
              "          data: base64,\n",
              "        },\n",
              "      };\n",
              "\n",
              "      let percentDone = fileData.byteLength === 0 ?\n",
              "          100 :\n",
              "          Math.round((position / fileData.byteLength) * 100);\n",
              "      percent.textContent = `${percentDone}% done`;\n",
              "\n",
              "    } while (position < fileData.byteLength);\n",
              "  }\n",
              "\n",
              "  // All done.\n",
              "  yield {\n",
              "    response: {\n",
              "      action: 'complete',\n",
              "    }\n",
              "  };\n",
              "}\n",
              "\n",
              "scope.google = scope.google || {};\n",
              "scope.google.colab = scope.google.colab || {};\n",
              "scope.google.colab._files = {\n",
              "  _uploadFiles,\n",
              "  _uploadFilesContinue,\n",
              "};\n",
              "})(self);\n",
              "</script> "
            ]
          },
          "metadata": {}
        },
        {
          "output_type": "stream",
          "name": "stdout",
          "text": [
            "Saving depositphotos_18901387-stock-photo-children.jpg to depositphotos_18901387-stock-photo-children (1).jpg\n"
          ]
        }
      ]
    },
    {
      "cell_type": "code",
      "source": [
        "#Prompt já definido para a criação de uma história infantil a partir da analise da imagem\n",
        "prompt = \"Crie uma fábula infantil, que seja divertida e inspiradora a partir deste desenho. Crie um título para a história.\"\n",
        "response = define_model.generate_content([prompt, img], stream=True)\n",
        "response.resolve()\n",
        "\n",
        "print(response.text)"
      ],
      "metadata": {
        "colab": {
          "base_uri": "https://localhost:8080/",
          "height": 436
        },
        "id": "pDCZV5-rV5zy",
        "outputId": "f26fb00f-d229-4bfe-df7b-5c6a72a9b384"
      },
      "execution_count": 55,
      "outputs": [
        {
          "output_type": "stream",
          "name": "stdout",
          "text": [
            " **O Jardim das Borboletas**\n",
            "\n",
            "Era uma vez um jardim cheio de flores coloridas e borboletas alegres. As borboletas adoravam voar de flor em flor, polinizando-as e ajudando-as a crescer.\n",
            "\n",
            "Um dia, uma pequena borboleta chamada Florzinha estava voando pelo jardim quando viu uma flor muito bonita. A flor era tão bonita que Florzinha não resistiu e pousou nela.\n",
            "\n",
            "Florzinha ficou tão encantada com a flor que começou a cantar uma música. A música era tão bonita que as outras borboletas pararam de voar e começaram a ouvir.\n",
            "\n",
            "Quando Florzinha terminou de cantar, as outras borboletas começaram a aplaudir. Elas disseram que Florzinha tinha uma voz muito bonita e que ela deveria cantar mais vezes.\n",
            "\n",
            "Florzinha ficou muito feliz com os elogios das outras borboletas. Ela sabia que tinha uma voz bonita, mas nunca tinha tido a oportunidade de cantá-la para ninguém.\n",
            "\n",
            "A partir daquele dia, Florzinha começou a cantar todos os dias no jardim. As outras borboletas adoravam ouvir sua voz e sempre paravam para ouvi-la.\n",
            "\n",
            "Um dia, um passarinho estava voando pelo jardim quando ouviu Florzinha cantar. O passarinho ficou tão encantado com a voz de Florzinha que pousou em um galho próximo para ouvi-la melhor.\n",
            "\n",
            "Quando Florzinha terminou de cantar, o passarinho começou a cantar também. O passarinho tinha uma voz tão bonita quanto a de Florzinha e os dois pássaros cantaram juntos por muito tempo.\n",
            "\n",
            "As outras borboletas ficaram muito felizes em ouvir Florzinha e o passarinho cantando. Elas sabiam que os dois pássaros tinham uma voz muito bonita e que eles deveriam cantar mais vezes.\n",
            "\n",
            "A partir daquele dia, Florzinha e o passarinho cantavam todos os dias no jardim. As outras borboletas adoravam ouvir suas vozes e sempre paravam para ouvi-los.\n",
            "\n",
            "O jardim das borboletas era um lugar muito feliz. As flores eram coloridas e as borboletas eram alegres. Todos os dias, as borboletas voavam de flor em flor, polinizando-as e ajudando-as a crescer. E todos os dias, Florzinha e o passarinho cantavam suas belas canções.\n"
          ]
        }
      ]
    }
  ]
}