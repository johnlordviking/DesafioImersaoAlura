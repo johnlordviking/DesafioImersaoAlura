{
  "nbformat": 4,
  "nbformat_minor": 0,
  "metadata": {
    "colab": {
      "provenance": [],
      "authorship_tag": "ABX9TyPD3IxJ64VmoWZYteCM793c",
      "include_colab_link": true
    },
    "kernelspec": {
      "name": "python3",
      "display_name": "Python 3"
    },
    "language_info": {
      "name": "python"
    }
  },
  "cells": [
    {
      "cell_type": "markdown",
      "metadata": {
        "id": "view-in-github",
        "colab_type": "text"
      },
      "source": [
        "<a href=\"https://colab.research.google.com/github/johnlordviking/DesafioImersaoAlura/blob/main/O_Contador_De_HistorIA.ipynb\" target=\"_parent\"><img src=\"https://colab.research.google.com/assets/colab-badge.svg\" alt=\"Open In Colab\"/></a>"
      ]
    },
    {
      "cell_type": "markdown",
      "source": [
        "📖✍ O Contador de HistórIA ✍📖\n",
        "\n",
        "**Descrição:** Uma aplicação inovadora que utiliza inteligência artificial para gerar fábulas a partir de desenhos infantis. Através de técnicas de processamento de imagens e aprendizado de máquina, o sistema analisa o desenho, reconhece elementos importantes e cria uma narrativa original e envolvente. A aplicação promove o desenvolvimento da criatividade, alfabetização e letramento, além de transmitir valores importantes para as crianças.\n",
        "\n",
        "**Autor:** João Pedro Rodrigues\n",
        "\n",
        "**Modelo:** gemini-pro-vision"
      ],
      "metadata": {
        "id": "8raL2b3_dGpl"
      }
    },
    {
      "cell_type": "markdown",
      "source": [
        "**⚙ Configurações do Projeto ⚙**"
      ],
      "metadata": {
        "id": "gP6USdaX4HEy"
      }
    },
    {
      "cell_type": "code",
      "source": [
        "#Instalação do Google Generative AI\n",
        "!pip install -q -U google-generativeai"
      ],
      "metadata": {
        "id": "VwCyNTMfJGpv"
      },
      "execution_count": 1,
      "outputs": []
    },
    {
      "cell_type": "code",
      "source": [
        "#Importação das bibliotecas utilizadas\n",
        "import google.generativeai as genai\n",
        "import PIL.Image\n",
        "from google.colab import files\n",
        "from google.colab import userdata"
      ],
      "metadata": {
        "id": "hlorUTKPKif_"
      },
      "execution_count": 2,
      "outputs": []
    },
    {
      "cell_type": "code",
      "execution_count": 3,
      "metadata": {
        "id": "rU-9KwG-yCGj"
      },
      "outputs": [],
      "source": [
        "#Configuração para uso da API KEY\n",
        "API_KEY = userdata.get(\"SECRET_KEY\")\n",
        "genai.configure(api_key=API_KEY)"
      ]
    },
    {
      "cell_type": "code",
      "source": [
        "#Configuração do modelo\n",
        "config_generation = {\n",
        "    \"candidate_count\": 1,\n",
        "    \"temperature\": 1\n",
        "}"
      ],
      "metadata": {
        "id": "HzH4dR6dJSVs"
      },
      "execution_count": 38,
      "outputs": []
    },
    {
      "cell_type": "code",
      "source": [
        "#Configuração dos filtro. Por ser tratar de um conteudo infantil, coloquei o máximo de bloqueio\n",
        "config_safety = {\n",
        "    \"HARASSMENT\": \"BLOCK_MEDIUM_AND_ABOVE\",\n",
        "    \"HATE\": \"BLOCK_MEDIUM_AND_ABOVE\",\n",
        "    \"SEXUAL\": \"BLOCK_MEDIUM_AND_ABOVE\",\n",
        "    \"DANGEROUS\": \"BLOCK_MEDIUM_AND_ABOVE\"\n",
        "}"
      ],
      "metadata": {
        "id": "5Kocv8VQJgWJ"
      },
      "execution_count": 11,
      "outputs": []
    },
    {
      "cell_type": "code",
      "source": [
        "#Definindo modelo que será utilizado\n",
        "define_model = genai.GenerativeModel(model_name=\"gemini-pro-vision\")"
      ],
      "metadata": {
        "id": "y6yu9bcvJwIH"
      },
      "execution_count": 6,
      "outputs": []
    },
    {
      "cell_type": "markdown",
      "source": [
        "**🧙‍♂️COMECE AQUI A SUA AVENTURA!!! 🧙‍♀️**"
      ],
      "metadata": {
        "id": "t0A3hdLt3l0_"
      }
    },
    {
      "cell_type": "code",
      "source": [
        "#Upload da imagem escolhida\n",
        "print(\"Crie um lindo desenho e envie ele para o contador de histórias aqui abaixo:\")\n",
        "uploaded = files.upload()\n",
        "\n",
        "if uploaded:\n",
        "  uploaded_image_name = next(iter(uploaded.keys()))\n",
        "  img = PIL.Image.open(uploaded_image_name)\n",
        "else:\n",
        "  print(\"Nenhuma imagem selecionada!\")"
      ],
      "metadata": {
        "colab": {
          "base_uri": "https://localhost:8080/",
          "height": 90
        },
        "id": "XwhwYJA9MIFt",
        "outputId": "4d714297-7a57-4082-e22e-38e103c6a174"
      },
      "execution_count": 45,
      "outputs": [
        {
          "output_type": "stream",
          "name": "stdout",
          "text": [
            "Crie um lindo desenho e envie ele para o contador de histórias aqui abaixo:\n"
          ]
        },
        {
          "output_type": "display_data",
          "data": {
            "text/plain": [
              "<IPython.core.display.HTML object>"
            ],
            "text/html": [
              "\n",
              "     <input type=\"file\" id=\"files-23c72f32-15fe-4d13-8525-1393abef97f0\" name=\"files[]\" multiple disabled\n",
              "        style=\"border:none\" />\n",
              "     <output id=\"result-23c72f32-15fe-4d13-8525-1393abef97f0\">\n",
              "      Upload widget is only available when the cell has been executed in the\n",
              "      current browser session. Please rerun this cell to enable.\n",
              "      </output>\n",
              "      <script>// Copyright 2017 Google LLC\n",
              "//\n",
              "// Licensed under the Apache License, Version 2.0 (the \"License\");\n",
              "// you may not use this file except in compliance with the License.\n",
              "// You may obtain a copy of the License at\n",
              "//\n",
              "//      http://www.apache.org/licenses/LICENSE-2.0\n",
              "//\n",
              "// Unless required by applicable law or agreed to in writing, software\n",
              "// distributed under the License is distributed on an \"AS IS\" BASIS,\n",
              "// WITHOUT WARRANTIES OR CONDITIONS OF ANY KIND, either express or implied.\n",
              "// See the License for the specific language governing permissions and\n",
              "// limitations under the License.\n",
              "\n",
              "/**\n",
              " * @fileoverview Helpers for google.colab Python module.\n",
              " */\n",
              "(function(scope) {\n",
              "function span(text, styleAttributes = {}) {\n",
              "  const element = document.createElement('span');\n",
              "  element.textContent = text;\n",
              "  for (const key of Object.keys(styleAttributes)) {\n",
              "    element.style[key] = styleAttributes[key];\n",
              "  }\n",
              "  return element;\n",
              "}\n",
              "\n",
              "// Max number of bytes which will be uploaded at a time.\n",
              "const MAX_PAYLOAD_SIZE = 100 * 1024;\n",
              "\n",
              "function _uploadFiles(inputId, outputId) {\n",
              "  const steps = uploadFilesStep(inputId, outputId);\n",
              "  const outputElement = document.getElementById(outputId);\n",
              "  // Cache steps on the outputElement to make it available for the next call\n",
              "  // to uploadFilesContinue from Python.\n",
              "  outputElement.steps = steps;\n",
              "\n",
              "  return _uploadFilesContinue(outputId);\n",
              "}\n",
              "\n",
              "// This is roughly an async generator (not supported in the browser yet),\n",
              "// where there are multiple asynchronous steps and the Python side is going\n",
              "// to poll for completion of each step.\n",
              "// This uses a Promise to block the python side on completion of each step,\n",
              "// then passes the result of the previous step as the input to the next step.\n",
              "function _uploadFilesContinue(outputId) {\n",
              "  const outputElement = document.getElementById(outputId);\n",
              "  const steps = outputElement.steps;\n",
              "\n",
              "  const next = steps.next(outputElement.lastPromiseValue);\n",
              "  return Promise.resolve(next.value.promise).then((value) => {\n",
              "    // Cache the last promise value to make it available to the next\n",
              "    // step of the generator.\n",
              "    outputElement.lastPromiseValue = value;\n",
              "    return next.value.response;\n",
              "  });\n",
              "}\n",
              "\n",
              "/**\n",
              " * Generator function which is called between each async step of the upload\n",
              " * process.\n",
              " * @param {string} inputId Element ID of the input file picker element.\n",
              " * @param {string} outputId Element ID of the output display.\n",
              " * @return {!Iterable<!Object>} Iterable of next steps.\n",
              " */\n",
              "function* uploadFilesStep(inputId, outputId) {\n",
              "  const inputElement = document.getElementById(inputId);\n",
              "  inputElement.disabled = false;\n",
              "\n",
              "  const outputElement = document.getElementById(outputId);\n",
              "  outputElement.innerHTML = '';\n",
              "\n",
              "  const pickedPromise = new Promise((resolve) => {\n",
              "    inputElement.addEventListener('change', (e) => {\n",
              "      resolve(e.target.files);\n",
              "    });\n",
              "  });\n",
              "\n",
              "  const cancel = document.createElement('button');\n",
              "  inputElement.parentElement.appendChild(cancel);\n",
              "  cancel.textContent = 'Cancel upload';\n",
              "  const cancelPromise = new Promise((resolve) => {\n",
              "    cancel.onclick = () => {\n",
              "      resolve(null);\n",
              "    };\n",
              "  });\n",
              "\n",
              "  // Wait for the user to pick the files.\n",
              "  const files = yield {\n",
              "    promise: Promise.race([pickedPromise, cancelPromise]),\n",
              "    response: {\n",
              "      action: 'starting',\n",
              "    }\n",
              "  };\n",
              "\n",
              "  cancel.remove();\n",
              "\n",
              "  // Disable the input element since further picks are not allowed.\n",
              "  inputElement.disabled = true;\n",
              "\n",
              "  if (!files) {\n",
              "    return {\n",
              "      response: {\n",
              "        action: 'complete',\n",
              "      }\n",
              "    };\n",
              "  }\n",
              "\n",
              "  for (const file of files) {\n",
              "    const li = document.createElement('li');\n",
              "    li.append(span(file.name, {fontWeight: 'bold'}));\n",
              "    li.append(span(\n",
              "        `(${file.type || 'n/a'}) - ${file.size} bytes, ` +\n",
              "        `last modified: ${\n",
              "            file.lastModifiedDate ? file.lastModifiedDate.toLocaleDateString() :\n",
              "                                    'n/a'} - `));\n",
              "    const percent = span('0% done');\n",
              "    li.appendChild(percent);\n",
              "\n",
              "    outputElement.appendChild(li);\n",
              "\n",
              "    const fileDataPromise = new Promise((resolve) => {\n",
              "      const reader = new FileReader();\n",
              "      reader.onload = (e) => {\n",
              "        resolve(e.target.result);\n",
              "      };\n",
              "      reader.readAsArrayBuffer(file);\n",
              "    });\n",
              "    // Wait for the data to be ready.\n",
              "    let fileData = yield {\n",
              "      promise: fileDataPromise,\n",
              "      response: {\n",
              "        action: 'continue',\n",
              "      }\n",
              "    };\n",
              "\n",
              "    // Use a chunked sending to avoid message size limits. See b/62115660.\n",
              "    let position = 0;\n",
              "    do {\n",
              "      const length = Math.min(fileData.byteLength - position, MAX_PAYLOAD_SIZE);\n",
              "      const chunk = new Uint8Array(fileData, position, length);\n",
              "      position += length;\n",
              "\n",
              "      const base64 = btoa(String.fromCharCode.apply(null, chunk));\n",
              "      yield {\n",
              "        response: {\n",
              "          action: 'append',\n",
              "          file: file.name,\n",
              "          data: base64,\n",
              "        },\n",
              "      };\n",
              "\n",
              "      let percentDone = fileData.byteLength === 0 ?\n",
              "          100 :\n",
              "          Math.round((position / fileData.byteLength) * 100);\n",
              "      percent.textContent = `${percentDone}% done`;\n",
              "\n",
              "    } while (position < fileData.byteLength);\n",
              "  }\n",
              "\n",
              "  // All done.\n",
              "  yield {\n",
              "    response: {\n",
              "      action: 'complete',\n",
              "    }\n",
              "  };\n",
              "}\n",
              "\n",
              "scope.google = scope.google || {};\n",
              "scope.google.colab = scope.google.colab || {};\n",
              "scope.google.colab._files = {\n",
              "  _uploadFiles,\n",
              "  _uploadFilesContinue,\n",
              "};\n",
              "})(self);\n",
              "</script> "
            ]
          },
          "metadata": {}
        },
        {
          "output_type": "stream",
          "name": "stdout",
          "text": [
            "Saving depositphotos_18901387-stock-photo-children.jpg to depositphotos_18901387-stock-photo-children (2).jpg\n"
          ]
        }
      ]
    },
    {
      "cell_type": "markdown",
      "source": [
        "📖 **Aqui que a magia começa! Boa leitura!!!** 📖"
      ],
      "metadata": {
        "id": "uJiDF6R74if4"
      }
    },
    {
      "cell_type": "code",
      "source": [
        "#Prompt já definido para a criação de uma história infantil a partir da analise da imagem\n",
        "prompt = \"Analise a imagem fornecida e crie uma fábula que explore os elementos visuais e inspire moralidade. Descreva os personagens, o ambiente e os eventos que ocorrem na história. Considere como a imagem pode representar temas como amizade, coragem, superação de desafios ou qualquer outra lição valiosa. Lembre-se de dar vida aos personagens e criar um enredo cativante que envolva o leitor desde o início até o desfecho. Crie um título para a história contada. Tente se limitar a 1000 caracteres.\"\n",
        "response = define_model.generate_content([prompt, img], stream=True)\n",
        "response.resolve()\n",
        "\n",
        "print(response.text)"
      ],
      "metadata": {
        "colab": {
          "base_uri": "https://localhost:8080/",
          "height": 263
        },
        "id": "pDCZV5-rV5zy",
        "outputId": "4cc5088c-bace-4598-f84e-7b72ecadb9c8"
      },
      "execution_count": 47,
      "outputs": [
        {
          "output_type": "stream",
          "name": "stdout",
          "text": [
            " **A flor e a borboleta**\n",
            "\n",
            "Era uma vez uma flor que vivia em um campo florido. Ela era muito bonita e tinha muitas pétalas coloridas. Um dia, uma borboleta pousou na flor. A borboleta era muito graciosa e tinha asas coloridas. A flor e a borboleta ficaram muito amigas.\n",
            "\n",
            "Elas brincavam juntas todos os dias. A flor contava histórias para a borboleta e a borboleta cantava músicas para a flor. Um dia, uma tempestade chegou ao campo florido. O vento era muito forte e a chuva era muito intensa. A flor e a borboleta estavam com medo.\n",
            "\n",
            "A flor estava com medo de ser arrancada do chão e a borboleta estava com medo de ser levada pelo vento. A tempestade durou muito tempo. A flor e a borboleta estavam muito cansadas. Mas elas não desistiram.\n",
            "\n",
            "Elas se abraçaram e se protegeram da tempestade. Quando a tempestade passou, a flor e a borboleta estavam muito felizes. Elas tinham sobrevivido à tempestade juntas.\n",
            "\n",
            "A flor e a borboleta aprenderam uma lição importante. Elas aprenderam que a amizade é muito importante. A amizade pode ajudar a superar qualquer desafio.\n",
            "\n",
            "Moral da história: A amizade é uma força poderosa que pode ajudar a superar qualquer desafio.\n"
          ]
        }
      ]
    },
    {
      "cell_type": "markdown",
      "source": [
        "Proximas Feature: Integrar com uma IA de voz. Segue um exemplo do texto gerado acima (https://play.ht/articles/079ed3f2-0c82-41d3-a026-1dd0e31a7720)"
      ],
      "metadata": {
        "id": "vxkZUN6pns9e"
      }
    }
  ]
}